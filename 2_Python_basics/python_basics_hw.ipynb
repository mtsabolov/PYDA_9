{
 "cells": [
  {
   "cell_type": "markdown",
   "metadata": {},
   "source": [
    "**Задание 1.** Даны 2 строки: long_phrase и short_phrase. Напишите код, который проверяет действительно ли длинная фраза long_phrase длиннее короткой short_phrase. И выводит True или False в зависимости от результата сравнения."
   ]
  },
  {
   "cell_type": "code",
   "execution_count": 1,
   "metadata": {},
   "outputs": [],
   "source": [
    "long_phrase = 'Насколько проще было бы писать программы, если бы не заказчики'\n",
    "short_phrase = '640Кб должно хватить для любых задач. Билл Гейтс (по легенде)'"
   ]
  },
  {
   "cell_type": "code",
   "execution_count": 7,
   "metadata": {},
   "outputs": [
    {
     "data": {
      "text/plain": [
       "True"
      ]
     },
     "execution_count": 7,
     "metadata": {},
     "output_type": "execute_result"
    }
   ],
   "source": [
    "len(long_phrase) > len(short_phrase)"
   ]
  },
  {
   "cell_type": "markdown",
   "metadata": {},
   "source": [
    "**Задание 2.** Дано значение объема файла в байтах (в мегабайте 2^20 байт). Напишите перевод этого значения в мегабайты в формате: \"Объем файла равен 213.68Mb\"."
   ]
  },
  {
   "cell_type": "code",
   "execution_count": 19,
   "metadata": {},
   "outputs": [
    {
     "name": "stdout",
     "output_type": "stream",
     "text": [
      "Введите значение в байтах 224059719.68\n",
      "Объем файла равен 213.68 Mb\n"
     ]
    }
   ],
   "source": [
    "MB = 2**20\n",
    "number = float(input('Введите значение в байтах '))\n",
    "X = number / MB\n",
    "print('Объем файла равен', X, 'Mb')\n",
    "\n"
   ]
  },
  {
   "cell_type": "markdown",
   "metadata": {},
   "source": [
    "**Задание 3.** Разработать приложение для определения знака зодиака по дате рождения. Пример:\n",
    "\n",
    "Введите месяц: март\n",
    "\n",
    "Введите число: 6\n",
    "\n",
    "Вывод: Рыбы"
   ]
  },
  {
   "cell_type": "code",
   "execution_count": 2,
   "metadata": {
    "scrolled": false
   },
   "outputs": [
    {
     "name": "stdout",
     "output_type": "stream",
     "text": [
      "Введите месяц строчными буквами: апрель\n",
      "Введите число: 13\n",
      "Овен\n"
     ]
    }
   ],
   "source": [
    "month = str(input('Введите месяц строчными буквами: '))\n",
    "date = int(input('Введите число: '))\n",
    "if month == 'март' and 20 < date <= 31:\n",
    "    print('Овен')\n",
    "elif month == 'апрель' and 1 <= date <= 20:\n",
    "    print('Овен')\n",
    "elif month == 'апрель' and 20 < date <= 30:\n",
    "    print('Телец')\n",
    "elif month == 'май' and 1 <= date <= 20:\n",
    "    print('Телец')\n",
    "elif month == 'май' and 20 < date <= 31:\n",
    "    print('Близнецы')\n",
    "elif month == 'июнь' and 1 <= date <= 20:\n",
    "    print('Близнецы')\n",
    "elif month == 'июнь' and 20 < date <= 30:\n",
    "    print('Рак')\n",
    "elif month == 'июль' and 1 <= date <= 22:\n",
    "    print('Рак')\n",
    "elif month == 'июль' and 22 < date <= 31:\n",
    "    print('Лев')\n",
    "elif month == 'август' and 1 <= date <= 22:\n",
    "    print('Лев')\n",
    "elif month == 'август' and 22 < date <= 31:\n",
    "    print('Дева')\n",
    "elif month == 'сентябрь' and 1 <= date <= 22:\n",
    "    print('Дева')\n",
    "elif month == 'сентябрь' and 22 < date <= 30:\n",
    "    print('Весы')\n",
    "elif month == 'октябрь' and 1 <= date <= 22:\n",
    "    print('Весы')\n",
    "elif month == 'октябрь' and 22 < date <= 31:\n",
    "    print('Скорпион')\n",
    "elif month == 'ноябрь' and 1 <= date <= 22:\n",
    "    print('Скорпион')\n",
    "elif month == 'ноябрь' and 22 < date <= 30:\n",
    "    print('Стрелец')\n",
    "elif month == 'декабрь' and 1 <= date <= 21:\n",
    "    print('Стрелец')\n",
    "elif month == 'декабрь' and 21 < date <= 31:\n",
    "    print('Козерог')\n",
    "elif month == 'январь' and 1 <= date <= 19:\n",
    "    print('Козерог')\n",
    "elif month == 'январь' and 19 < date <= 31:\n",
    "    print('Водолей')\n",
    "elif month == 'февраль' and 1 <= date <= 19:\n",
    "    print('Водолей')\n",
    "elif month == 'февраль' and 19 < date <= 29:\n",
    "    print('Рыбы')\n",
    "elif month == 'март' and 1 <= date <= 20:\n",
    "    print('Рыбы')"
   ]
  },
  {
   "cell_type": "markdown",
   "metadata": {},
   "source": [
    "\n",
    "**Задание 4.** Нужно разработать приложение для финансового планирования. Приложение учитывает сколько уходит на ипотеку, \"на жизнь\" и сколько нужно отложить на пенсию. Пользователь вводит:\n",
    "\n",
    "* заработанную плату в месяц.\n",
    "* сколько процентов от ЗП уходит на ипотеку.\n",
    "* сколько процентов от ЗП уходит \"на жизнь\".\n",
    "* сколько раз приходит премия в год.\n",
    "\n",
    "Остальная часть заработанной платы откладывается на пенсию.\n",
    "\n",
    "Также пользователю приходит премия в размере зарплаты, от которой половина уходит на отпуск, а вторая половина откладывается.\n",
    "\n",
    "Программа должна учитывать сколько премий было в год.\n",
    "\n",
    "Нужно вывести сколько денег тратит пользователь на ипотеку и сколько он накопит за год.\n",
    "\n",
    "Пример:\n",
    "\n",
    "Введите заработанную плату в месяц: 100000\n",
    "\n",
    "Введите сколько процентов уходит на ипотеку: 30\n",
    "\n",
    "Введите сколько процентов уходит на жизнь: 50\n",
    "\n",
    "Введите количество премий за год: 2\n",
    "\n",
    "Вывод: На ипотеку было потрачено: 360000 рублей Было накоплено: 340000 рублей"
   ]
  },
  {
   "cell_type": "code",
   "execution_count": 1,
   "metadata": {},
   "outputs": [
    {
     "name": "stdout",
     "output_type": "stream",
     "text": [
      "Введите заработную плату в месяц: 100000\n",
      "Введите, сколько процентов уходит на ипотеку: 30\n",
      "Введите, сколько процентов уходит на жизнь: 50\n",
      "Введите количество премий за год: 2\n",
      "На ипотеку было потрачено: 360000 ₽ Было накоплено: 340000 ₽\n"
     ]
    }
   ],
   "source": [
    "salary_input = int(input('Введите заработную плату в месяц: '))\n",
    "mortgage_input = int(input('Введите, сколько процентов уходит на ипотеку: '))\n",
    "livelihood_input = int(input('Введите, сколько процентов уходит на жизнь: '))\n",
    "bonus_input = int(input('Введите количество премий за год: ')) # премия равна месячной зарплате\n",
    "mortgage = int(salary_input*12*mortgage_input/100)\n",
    "savings = int(salary_input*12*(100-mortgage_input-livelihood_input)/100 + salary_input*bonus_input/2)\n",
    "print ('На ипотеку было потрачено:', mortgage, '₽', 'Было накоплено:', savings, '₽')\n"
   ]
  }
 ],
 "metadata": {
  "kernelspec": {
   "display_name": "Python 3",
   "language": "python",
   "name": "python3"
  },
  "language_info": {
   "codemirror_mode": {
    "name": "ipython",
    "version": 3
   },
   "file_extension": ".py",
   "mimetype": "text/x-python",
   "name": "python",
   "nbconvert_exporter": "python",
   "pygments_lexer": "ipython3",
   "version": "3.7.6"
  }
 },
 "nbformat": 4,
 "nbformat_minor": 4
}
